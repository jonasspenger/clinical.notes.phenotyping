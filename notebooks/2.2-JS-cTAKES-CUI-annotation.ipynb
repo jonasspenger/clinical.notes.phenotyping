{
 "cells": [
  {
   "cell_type": "markdown",
   "metadata": {},
   "source": [
    "Run cTAKES to annotate the clinical notes with the following options:\n",
    "\n",
    "* piperfile (-p): piperfiles/ListPipeline.piper \n",
    "* input directory (-i): ../data/interim/cTAKES_input \n",
    "* output directory (-o): ../data/interim/cTAKES_output\n",
    "* username (--user): your UMLS username\n",
    "* password (--pass): your UMLS password\n",
    "\n",
    "Example:\n",
    "```\n",
    "sh apache-ctakes-4.0.1-SNAPSHOT/bin/runPiperFile.sh -p ListPipeline.piper -i inputdir -o outputdir --user USERNAME --pass PASSWORD;\n",
    "```"
   ]
  }
 ],
 "metadata": {
  "kernelspec": {
   "display_name": "Python 2",
   "language": "python",
   "name": "python2"
  },
  "language_info": {
   "codemirror_mode": {
    "name": "ipython",
    "version": 2
   },
   "file_extension": ".py",
   "mimetype": "text/x-python",
   "name": "python",
   "nbconvert_exporter": "python",
   "pygments_lexer": "ipython2",
   "version": "2.7.10"
  }
 },
 "nbformat": 4,
 "nbformat_minor": 2
}
