{
 "cells": [
  {
   "cell_type": "code",
   "execution_count": null,
   "metadata": {},
   "outputs": [],
   "source": [
    "import pandas\n",
    "import sklearn.feature_extraction.text\n",
    "import sklearn.metrics.pairwise"
   ]
  },
  {
   "cell_type": "code",
   "execution_count": null,
   "metadata": {},
   "outputs": [],
   "source": [
    "# load mimic 2 data\n",
    "annotations = pandas.read_csv('../data/raw/annotations.csv')"
   ]
  },
  {
   "cell_type": "code",
   "execution_count": null,
   "metadata": {},
   "outputs": [],
   "source": [
    "annotations.head()"
   ]
  },
  {
   "cell_type": "code",
   "execution_count": null,
   "metadata": {},
   "outputs": [],
   "source": [
    "# load mimic 3 data\n",
    "m3_chunks = pandas.read_csv('../data/raw/NOTEEVENTS.csv', chunksize=100000)"
   ]
  },
  {
   "cell_type": "code",
   "execution_count": null,
   "metadata": {},
   "outputs": [],
   "source": [
    "%%time\n",
    "res = pandas.concat(pandas.merge(left=annotations, right=m3_chunk, how='inner', left_on='subject.id', right_on='SUBJECT_ID') for m3_chunk in m3_chunks)"
   ]
  },
  {
   "cell_type": "code",
   "execution_count": null,
   "metadata": {},
   "outputs": [],
   "source": [
    "res.columns"
   ]
  },
  {
   "cell_type": "code",
   "execution_count": null,
   "metadata": {},
   "outputs": [],
   "source": [
    "res.head()"
   ]
  },
  {
   "cell_type": "code",
   "execution_count": null,
   "metadata": {},
   "outputs": [],
   "source": [
    "res.shape"
   ]
  },
  {
   "cell_type": "code",
   "execution_count": null,
   "metadata": {},
   "outputs": [],
   "source": [
    "cv = sklearn.feature_extraction.text.CountVectorizer()"
   ]
  },
  {
   "cell_type": "code",
   "execution_count": null,
   "metadata": {},
   "outputs": [],
   "source": [
    "%%time\n",
    "cv.fit(res['text'], res['TEXT'])"
   ]
  },
  {
   "cell_type": "code",
   "execution_count": null,
   "metadata": {},
   "outputs": [],
   "source": [
    "%%time\n",
    "res['note_similarity'] = res.apply(lambda x: \n",
    "    sklearn.metrics.pairwise.cosine_similarity(\n",
    "        cv.transform([x['text']]), \n",
    "        cv.transform([x['TEXT']]))[0,0]\n",
    "    ,axis=1)"
   ]
  },
  {
   "cell_type": "code",
   "execution_count": null,
   "metadata": {},
   "outputs": [],
   "source": [
    "%%time\n",
    "reb = res\n",
    "reb = reb.sort_values(by='note_similarity', ascending=False).drop_duplicates(subset=['subject.id', 'text'], keep='first').sort_index()"
   ]
  },
  {
   "cell_type": "code",
   "execution_count": null,
   "metadata": {},
   "outputs": [],
   "source": [
    "reb = reb.rename(columns={'ROW_ID': 'mimic_iii_row_id'})\n",
    "reb.head()"
   ]
  },
  {
   "cell_type": "code",
   "execution_count": null,
   "metadata": {},
   "outputs": [],
   "source": [
    "cols = [u'mimic_iii_row_id', u'text', u'Hospital.Admission.ID', u'subject.id', u'chart.time',\n",
    "       u'cohort', u'Obesity', u'Non.Adherence',\n",
    "       u'Developmental.Delay.Retardation', u'Advanced.Heart.Disease',\n",
    "       u'Advanced.Lung.Disease',\n",
    "       u'Schizophrenia.and.other.Psychiatric.Disorders', u'Alcohol.Abuse',\n",
    "       u'Other.Substance.Abuse', u'Chronic.Pain.Fibromyalgia',\n",
    "       u'Chronic.Neurological.Dystrophies', u'Advanced.Cancer', u'Depression',\n",
    "       u'Dementia', u'Unsure']"
   ]
  },
  {
   "cell_type": "code",
   "execution_count": null,
   "metadata": {},
   "outputs": [],
   "source": [
    "reb = reb.filter(items=cols)\n",
    "reb.head()"
   ]
  },
  {
   "cell_type": "code",
   "execution_count": null,
   "metadata": {},
   "outputs": [],
   "source": [
    "# sort it\n",
    "merged = pandas.merge(left=annotations, right=reb, how='inner', on=['Hospital.Admission.ID', 'subject.id', 'chart.time', 'text'], suffixes=['','_22'])\n",
    "ren = merged.filter(items=cols)"
   ]
  },
  {
   "cell_type": "code",
   "execution_count": null,
   "metadata": {},
   "outputs": [],
   "source": [
    "ren.to_csv('../data/raw/merged_annotations.csv', index=False)"
   ]
  }
 ],
 "metadata": {
  "kernelspec": {
   "display_name": "Python 2",
   "language": "python",
   "name": "python2"
  },
  "language_info": {
   "codemirror_mode": {
    "name": "ipython",
    "version": 2
   },
   "file_extension": ".py",
   "mimetype": "text/x-python",
   "name": "python",
   "nbconvert_exporter": "python",
   "pygments_lexer": "ipython2",
   "version": "2.7.10"
  }
 },
 "nbformat": 4,
 "nbformat_minor": 2
}
